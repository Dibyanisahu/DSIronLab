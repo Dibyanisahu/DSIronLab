{
 "cells": [
  {
   "cell_type": "markdown",
   "id": "ccb9550a",
   "metadata": {},
   "source": [
    "\n",
    "\n",
    "# numpy exercises\n",
    "\n",
    "This is a collection of exercises that have been collected in the numpy mailing list, on stack overflow\n",
    "and in the numpy documentation. The goal of this collection is to offer a quick reference for both old\n",
    "and new users but also to provide a set of exercises for those who teach.\n",
    "\n",
    "\n",
    "If you find an error or think you've a better way to solve some of them, feel\n",
    "free to open an issue at <https://github.com/rougier/numpy-100>.\n",
    "File automatically generated. See the documentation to update questions/answers/hints programmatically.\n",
    "\n",
    "#### 1. Import the numpy package under the name `np` (★☆☆)\n",
    "`hint: import … as`\n",
    "\n",
    "#### 2. Create a null vector of size 10 (★☆☆)\n",
    "`hint: np.zeros`\n",
    "\n",
    "#### 3. Create a null vector of size 10 but the fifth value which is 1 (★☆☆)\n",
    "`hint: array[4]`\n",
    "\n",
    "#### 4. Create a vector with values ranging from 10 to 49 (★☆☆)\n",
    "`hint: arange`\n",
    "\n",
    "#### 5. Create a 3x3 matrix with values ranging from 0 to 8 (★☆☆)\n",
    "`hint: reshape`\n",
    "\n",
    "#### 6. Find indices of non-zero elements from [1,2,0,0,4,0] (★☆☆)\n",
    "`hint: np.nonzero`\n",
    "\n",
    "#### 7. Create a 3x3 identity matrix (★☆☆)\n",
    "`hint: np.eye`\n",
    "\n",
    "#### 8. Create a 3x3x3 array with random values (★☆☆)\n",
    "`hint: np.random.random`\n",
    "\n",
    "#### 9. Create a 10x10 array with random values and find the minimum and maximum values (★☆☆)\n",
    "`hint: min, max`\n",
    "\n",
    "#### 10. Create a random vector of size 30 and find the mean value (★☆☆)\n",
    "`hint: mean`\n",
    "\n",
    "#### 11. Create a 5x5 matrix with values 1,2,3,4 just below the diagonal (★☆☆)\n",
    "`hint: np.diag`\n",
    "\n",
    "#### 12. Normalize a 5x5 random matrix (★☆☆)\n",
    "`hint: (x -mean)/std`\n",
    "\n",
    "#### 13. How to find common values between two arrays? (★☆☆)\n",
    "`hint: np.intersect1d`\n",
    "\n",
    "#### 14. Create a random vector of size 10 and sort it (★★☆)\n",
    "`hint: sort`\n",
    "\n",
    "#### 15. Create random vector of size 10 and replace the maximum value by 0 (★★☆)\n",
    "`hint: argmax`\n",
    "\n",
    "#### 16. Subtract the mean of each row of a matrix (★★☆)\n",
    "`hint: mean(axis=,keepdims=)`\n",
    "\n",
    "#### 17. How to get the n largest values of an array (★★★)\n",
    "`Z = np.arange(10000)\n",
    "np.random.shuffle(Z)\n",
    "n = 5\n",
    "hint: np.argsort | np.argpartition`\n",
    "\n",
    "#### 18. Create a random 5*3 matrix and replace items that are larger than 4 by their squares ( Example:  6 --> 36) \n",
    "`hint: np.where`\n"
   ]
  },
  {
   "cell_type": "code",
   "execution_count": 2,
   "id": "59bacceb",
   "metadata": {},
   "outputs": [],
   "source": [
    "import numpy as np"
   ]
  },
  {
   "cell_type": "code",
   "execution_count": 7,
   "id": "4cd6ce1e",
   "metadata": {},
   "outputs": [
    {
     "name": "stdout",
     "output_type": "stream",
     "text": [
      "[0. 0. 0. 0. 0. 0. 0. 0. 0. 0.]\n"
     ]
    },
    {
     "data": {
      "text/plain": [
       "numpy.ndarray"
      ]
     },
     "execution_count": 7,
     "metadata": {},
     "output_type": "execute_result"
    }
   ],
   "source": [
    "a = np.zeros(10) \n",
    "print (a)\n",
    "type(a)"
   ]
  },
  {
   "cell_type": "code",
   "execution_count": 8,
   "id": "9027489a",
   "metadata": {},
   "outputs": [
    {
     "name": "stdout",
     "output_type": "stream",
     "text": [
      "[0. 0. 0. 0. 1. 0. 0. 0. 0. 0.]\n"
     ]
    }
   ],
   "source": [
    "a[4] = 1\n",
    "print(a)"
   ]
  },
  {
   "cell_type": "code",
   "execution_count": 15,
   "id": "7139a366",
   "metadata": {},
   "outputs": [
    {
     "data": {
      "text/plain": [
       "array([0, 0, 0, 0, 1, 0, 0, 0, 0, 0])"
      ]
     },
     "execution_count": 15,
     "metadata": {},
     "output_type": "execute_result"
    }
   ],
   "source": [
    "(np.arange(10) == 4).astype(int)"
   ]
  },
  {
   "cell_type": "code",
   "execution_count": 14,
   "id": "6b3099b6",
   "metadata": {},
   "outputs": [
    {
     "data": {
      "text/plain": [
       "array([10, 11, 12, 13, 14, 15, 16, 17, 18, 19, 20, 21, 22, 23, 24, 25, 26,\n",
       "       27, 28, 29, 30, 31, 32, 33, 34, 35, 36, 37, 38, 39, 40, 41, 42, 43,\n",
       "       44, 45, 46, 47, 48])"
      ]
     },
     "execution_count": 14,
     "metadata": {},
     "output_type": "execute_result"
    }
   ],
   "source": [
    "np.array(range(10,49))"
   ]
  },
  {
   "cell_type": "code",
   "execution_count": 17,
   "id": "e65b1bfb",
   "metadata": {},
   "outputs": [
    {
     "data": {
      "text/plain": [
       "array([[0, 1, 2],\n",
       "       [3, 4, 5],\n",
       "       [6, 7, 8]])"
      ]
     },
     "execution_count": 17,
     "metadata": {},
     "output_type": "execute_result"
    }
   ],
   "source": [
    "#Create a 3x3 matrix with values ranging from 0 to 8 \n",
    "np.arange(0,9).reshape(3,3)"
   ]
  },
  {
   "cell_type": "code",
   "execution_count": 22,
   "id": "165a33a7",
   "metadata": {},
   "outputs": [
    {
     "data": {
      "text/plain": [
       "(array([0, 1, 4]),)"
      ]
     },
     "execution_count": 22,
     "metadata": {},
     "output_type": "execute_result"
    }
   ],
   "source": [
    "#Find indices of non-zero elements from [1,2,0,0,4,0]\n",
    "a =[1,2,0,0,4,0]\n",
    "np.nonzero(a)"
   ]
  },
  {
   "cell_type": "code",
   "execution_count": 23,
   "id": "c8bbedf5",
   "metadata": {},
   "outputs": [
    {
     "data": {
      "text/plain": [
       "array([[1., 0., 0.],\n",
       "       [0., 1., 0.],\n",
       "       [0., 0., 1.]])"
      ]
     },
     "execution_count": 23,
     "metadata": {},
     "output_type": "execute_result"
    }
   ],
   "source": [
    "#Create a 3x3 identity matrix \n",
    "np.eye(3,3)"
   ]
  },
  {
   "cell_type": "code",
   "execution_count": 24,
   "id": "3bd89bc3",
   "metadata": {},
   "outputs": [
    {
     "name": "stdout",
     "output_type": "stream",
     "text": [
      "[[[0.60976717 0.77439115 0.16604755]\n",
      "  [0.69016402 0.66039711 0.51774012]\n",
      "  [0.11463581 0.20219384 0.90281873]]\n",
      "\n",
      " [[0.60320332 0.33258927 0.21313471]\n",
      "  [0.57640918 0.0035392  0.2668605 ]\n",
      "  [0.64130855 0.98678851 0.98387264]]\n",
      "\n",
      " [[0.75590225 0.89212978 0.44743348]\n",
      "  [0.61346307 0.80480224 0.59042817]\n",
      "  [0.80055549 0.11862636 0.17314482]]]\n"
     ]
    }
   ],
   "source": [
    "#Create a 3x3x3 array with random values\n",
    "x = np.random.random((3,3,3))\n",
    "print(x)"
   ]
  },
  {
   "cell_type": "code",
   "execution_count": 27,
   "id": "2059ea84",
   "metadata": {},
   "outputs": [
    {
     "name": "stdout",
     "output_type": "stream",
     "text": [
      "Array:\n",
      "[[0.7508392  0.75568789 0.13248971 0.47821487 0.51358201 0.77763583\n",
      "  0.8066548  0.46617971 0.33773683 0.13231517]\n",
      " [0.5512968  0.15445303 0.4807554  0.29624024 0.49317905 0.09701409\n",
      "  0.41991208 0.79757895 0.08167441 0.74545172]\n",
      " [0.45610783 0.35738394 0.70743212 0.69374946 0.84942075 0.78755205\n",
      "  0.52866434 0.82849231 0.35485615 0.67327333]\n",
      " [0.51014529 0.41355645 0.09358776 0.36601152 0.37898566 0.09360497\n",
      "  0.74298036 0.21216828 0.0581075  0.59861185]\n",
      " [0.78242384 0.09255744 0.88271546 0.19232054 0.79323627 0.09462194\n",
      "  0.32451402 0.73151603 0.62573326 0.24257903]\n",
      " [0.85966854 0.60069238 0.17437687 0.68920191 0.59128141 0.48538566\n",
      "  0.76942012 0.75687937 0.2615785  0.8809672 ]\n",
      " [0.69188467 0.42386454 0.77767295 0.23849918 0.3334471  0.53401286\n",
      "  0.72137575 0.29904907 0.72976519 0.40035796]\n",
      " [0.72393299 0.35308972 0.55510274 0.61917175 0.61619678 0.04558058\n",
      "  0.60733449 0.26204601 0.27333902 0.64620529]\n",
      " [0.78171499 0.44706563 0.77986293 0.03349447 0.83297084 0.40042766\n",
      "  0.74460087 0.6194207  0.98858988 0.86323635]\n",
      " [0.17044637 0.36786988 0.79956802 0.57055057 0.3528066  0.23614396\n",
      "  0.32643996 0.16162316 0.05471044 0.64724717]]\n",
      "The Minimum and Maximum Values are:\n",
      "0.03349446868245143 0.98858987514979\n"
     ]
    }
   ],
   "source": [
    "#Create a 10x10 array with random values and find the minimum and maximum values\n",
    "\n",
    "x = np.random.random((10,10))\n",
    "print(\"Array:\")\n",
    "print(x) \n",
    "xmin, xmax = x.min(), x.max()\n",
    "print(\"The Minimum and Maximum Values are:\")\n",
    "print(xmin, xmax)"
   ]
  },
  {
   "cell_type": "code",
   "execution_count": 28,
   "id": "a7a014c9",
   "metadata": {},
   "outputs": [
    {
     "name": "stdout",
     "output_type": "stream",
     "text": [
      "0.4970771032191499\n"
     ]
    }
   ],
   "source": [
    "# Create a random vector of size 30 and find the mean value\n",
    "A = np.random.random(30)\n",
    "m = A.mean()\n",
    "print(m)"
   ]
  },
  {
   "cell_type": "code",
   "execution_count": 32,
   "id": "0131c1fe",
   "metadata": {},
   "outputs": [
    {
     "name": "stdout",
     "output_type": "stream",
     "text": [
      "[[0 0 0 0 0]\n",
      " [1 0 0 0 0]\n",
      " [0 2 0 0 0]\n",
      " [0 0 3 0 0]\n",
      " [0 0 0 4 0]]\n"
     ]
    }
   ],
   "source": [
    "# Create a 5x5 matrix with values 1,2,3,4 just below the diagonal\n",
    "A = np.diag(1+np.arange(4),k=-1)\n",
    "print(A)\n"
   ]
  },
  {
   "cell_type": "code",
   "execution_count": 33,
   "id": "691113d4",
   "metadata": {},
   "outputs": [
    {
     "name": "stdout",
     "output_type": "stream",
     "text": [
      "Original Array:\n",
      "[[0.55993796 0.64481698 0.24191078 0.36803339 0.8343401 ]\n",
      " [0.48613697 0.86790109 0.1350226  0.3020598  0.61283501]\n",
      " [0.00799232 0.35159818 0.14221506 0.48746537 0.75537611]\n",
      " [0.30053437 0.03866077 0.49722437 0.16548101 0.68498417]\n",
      " [0.01918214 0.77120023 0.57794955 0.12036837 0.40615989]]\n",
      "After normalization:\n",
      "[[0.64186535 0.74057235 0.27202707 0.41869683 0.96097146]\n",
      " [0.55604114 1.         0.1477253  0.34197521 0.70338007]\n",
      " [0.         0.39958409 0.15608952 0.55758595 0.86914312]\n",
      " [0.34020127 0.03566478 0.56893483 0.18314582 0.78728335]\n",
      " [0.01301281 0.88754522 0.66281128 0.1306837  0.46303467]]\n"
     ]
    }
   ],
   "source": [
    "# Normalize a 5x5 random matrix \n",
    "x= np.random.random((5,5))\n",
    "print(\"Original Array:\")\n",
    "print(x)\n",
    "xmax, xmin = x.max(), x.min()\n",
    "x = (x - xmin)/(xmax - xmin)\n",
    "print(\"After normalization:\")\n",
    "print(x)"
   ]
  },
  {
   "cell_type": "code",
   "execution_count": 34,
   "id": "b52fc146",
   "metadata": {},
   "outputs": [
    {
     "name": "stdout",
     "output_type": "stream",
     "text": [
      "Array1:  [ 0 10 20 40 60]\n",
      "Array2:  [10, 30, 40]\n",
      "Common values between two arrays:\n",
      "[10 40]\n"
     ]
    }
   ],
   "source": [
    "# How to find common values between two arrays?\n",
    "array1 = np.array([0, 10, 20, 40, 60])\n",
    "print(\"Array1: \",array1)\n",
    "array2 = [10, 30, 40]\n",
    "print(\"Array2: \",array2)\n",
    "print(\"Common values between two arrays:\")\n",
    "print(np.intersect1d(array1, array2))"
   ]
  },
  {
   "cell_type": "code",
   "execution_count": 39,
   "id": "8fcd2ac1",
   "metadata": {},
   "outputs": [
    {
     "name": "stdout",
     "output_type": "stream",
     "text": [
      "Original array: [0.21150919 0.26794387 0.92498519 0.46217382 0.98203955 0.39685638\n",
      " 0.02169352 0.1257316  0.87317604 0.9434475 ]\n",
      "Sorted array: [0.02169352 0.1257316  0.21150919 0.26794387 0.39685638 0.46217382\n",
      " 0.87317604 0.92498519 0.9434475  0.98203955]\n"
     ]
    }
   ],
   "source": [
    "# Create a random vector of size 10 and sort it\n",
    "\n",
    "x = np.random.random(10)\n",
    "print(\"Original array:\", x)\n",
    "\n",
    "x.sort()\n",
    "print(\"Sorted array:\", x)\n"
   ]
  },
  {
   "cell_type": "code",
   "execution_count": 42,
   "id": "3d2a2963",
   "metadata": {},
   "outputs": [
    {
     "name": "stdout",
     "output_type": "stream",
     "text": [
      "Original array:\n",
      "[0.84806058 0.83015272 0.31973113 0.97111315 0.64544319 0.98618381\n",
      " 0.35364894 0.72543973 0.71909647 0.14363251]\n",
      "Maximum value replaced by 0:\n",
      "[0.84806058 0.83015272 0.31973113 0.97111315 0.64544319 0.\n",
      " 0.35364894 0.72543973 0.71909647 0.14363251]\n"
     ]
    }
   ],
   "source": [
    "# Create random vector of size 10 and replace the maximum value by 0\n",
    "\n",
    "x = np.random.random(10)\n",
    "print(\"Original array:\")\n",
    "print(x)\n",
    "x[x.argmax()] = 0\n",
    "print(\"Maximum value replaced by 0:\")\n",
    "print(x)"
   ]
  },
  {
   "cell_type": "code",
   "execution_count": 47,
   "id": "dad11c9e",
   "metadata": {},
   "outputs": [
    {
     "name": "stdout",
     "output_type": "stream",
     "text": [
      "Original matrix:\n",
      "\n",
      "[[0.45648628 0.54203798 0.80223387 0.71178145 0.02261141 0.52389574\n",
      "  0.84984055 0.16621279 0.90842729 0.75176261]\n",
      " [0.35193806 0.08775609 0.96838641 0.87133936 0.74277565 0.17862982\n",
      "  0.25353829 0.26822806 0.64940631 0.60461755]\n",
      " [0.87475898 0.93641776 0.58866853 0.15526992 0.18562221 0.68853122\n",
      "  0.41981099 0.55805388 0.72946838 0.12323975]\n",
      " [0.56548841 0.04605296 0.48886166 0.33673623 0.2336057  0.01847369\n",
      "  0.78387152 0.09315892 0.66800188 0.27043181]\n",
      " [0.7516834  0.12940607 0.85638713 0.0993493  0.46389478 0.02923666\n",
      "  0.83609178 0.576525   0.1529049  0.53001526]]\n",
      "\n",
      "Subtract the mean of each row of the said matrix:\n",
      "\n",
      "[[-0.11704272 -0.03149102  0.22870488  0.13825245 -0.55091759 -0.04963326\n",
      "   0.27631156 -0.40731621  0.33489829  0.17823361]\n",
      " [-0.1457235  -0.40990547  0.47072486  0.3736778   0.24511409 -0.31903174\n",
      "  -0.24412327 -0.2294335   0.15174475  0.10695599]\n",
      " [ 0.34877482  0.4104336   0.06268437 -0.37071425 -0.34036195  0.16254706\n",
      "  -0.10617318  0.03206972  0.20348422 -0.40274441]\n",
      " [ 0.21502013 -0.30441532  0.13839338 -0.01373204 -0.11686258 -0.33199459\n",
      "   0.43340324 -0.25730936  0.3175336  -0.08003647]\n",
      " [ 0.30913397 -0.31314336  0.4138377  -0.34320013  0.02134535 -0.41331277\n",
      "   0.39354235  0.13397557 -0.28964453  0.08746583]]\n"
     ]
    }
   ],
   "source": [
    "# Subtract the mean of each row of a matrix\n",
    "print(\"Original matrix:\\n\")\n",
    "X = np.random.rand(5, 10)\n",
    "print(X)\n",
    "print(\"\\nSubtract the mean of each row of the said matrix:\\n\")\n",
    "Y = X - X.mean(axis=1, keepdims=True)\n",
    "print(Y)"
   ]
  },
  {
   "cell_type": "code",
   "execution_count": 52,
   "id": "02bb6da9",
   "metadata": {},
   "outputs": [
    {
     "name": "stdout",
     "output_type": "stream",
     "text": [
      "Original array:\n",
      "[ 0  1  2  3  4  5  6  7  8  9 10 11 12 13 14 15 16 17 18 19 20 21 22 23\n",
      " 24 25 26 27 28 29 30 31 32 33 34 35 36 37 38 39 40 41 42 43 44 45 46 47\n",
      " 48 49 50 51 52 53 54 55 56 57 58 59 60 61 62 63 64 65 66 67 68 69 70 71\n",
      " 72 73 74 75 76 77 78 79 80 81 82 83 84 85 86 87 88 89 90 91 92 93 94 95\n",
      " 96 97 98 99]\n",
      "[99]\n"
     ]
    }
   ],
   "source": [
    "# How to get the n largest values of an array\n",
    "x = np.arange(100)\n",
    "print(\"Original array:\")\n",
    "print(x)\n",
    "np.random.shuffle(x)\n",
    "\n",
    "n = 1\n",
    "print (x[np.argsort(x)[-n:]])"
   ]
  },
  {
   "cell_type": "code",
   "execution_count": 75,
   "id": "f8d7501b",
   "metadata": {},
   "outputs": [
    {
     "name": "stdout",
     "output_type": "stream",
     "text": [
      "Original array:\n",
      "[[ 1  2  3]\n",
      " [ 4  5  6]\n",
      " [ 7  8  9]\n",
      " [10 11 12]\n",
      " [13 14 15]]\n",
      "Replace all elements of the said array larger than 4 with their squares \n",
      "[[  1   2   3]\n",
      " [  4  25  36]\n",
      " [ 49  64  81]\n",
      " [100 121 144]\n",
      " [169 196 225]]\n"
     ]
    }
   ],
   "source": [
    "# Create a random 5*3 matrix and replace items that are larger than 4 by their squares ( Example: 6 --> 36)\n",
    "\n",
    "x = np.arange(1, 16).reshape(5,3)\n",
    "print(\"Original array:\")\n",
    "print(x)\n",
    "print(\"Replace all elements of the said array larger than 4 with their squares \")\n",
    "x =np.where(x <= 4, x, x**2)\n",
    "#x[x > 4] = np.square(x>4)\n",
    "print(x)\n"
   ]
  },
  {
   "cell_type": "code",
   "execution_count": 70,
   "id": "7a6ad328",
   "metadata": {},
   "outputs": [],
   "source": [
    "x = np.arange(1, 16).reshape(5,3)"
   ]
  },
  {
   "cell_type": "code",
   "execution_count": 71,
   "id": "0e4f8102",
   "metadata": {},
   "outputs": [
    {
     "data": {
      "text/plain": [
       "array([[ 1,  2,  3],\n",
       "       [ 4,  5,  6],\n",
       "       [ 7,  8,  9],\n",
       "       [10, 11, 12],\n",
       "       [13, 14, 15]])"
      ]
     },
     "execution_count": 71,
     "metadata": {},
     "output_type": "execute_result"
    }
   ],
   "source": [
    "x"
   ]
  },
  {
   "cell_type": "code",
   "execution_count": 74,
   "id": "6a993ec9",
   "metadata": {},
   "outputs": [
    {
     "data": {
      "text/plain": [
       "array([[  1,   2,   3],\n",
       "       [  4,  25,  36],\n",
       "       [ 49,  64,  81],\n",
       "       [100, 121, 144],\n",
       "       [169, 196, 225]])"
      ]
     },
     "execution_count": 74,
     "metadata": {},
     "output_type": "execute_result"
    }
   ],
   "source": [
    "np.where(x <= 4, x, x**2)"
   ]
  },
  {
   "cell_type": "code",
   "execution_count": null,
   "id": "6203b377",
   "metadata": {},
   "outputs": [],
   "source": []
  }
 ],
 "metadata": {
  "kernelspec": {
   "display_name": "Python 3 (ipykernel)",
   "language": "python",
   "name": "python3"
  },
  "language_info": {
   "codemirror_mode": {
    "name": "ipython",
    "version": 3
   },
   "file_extension": ".py",
   "mimetype": "text/x-python",
   "name": "python",
   "nbconvert_exporter": "python",
   "pygments_lexer": "ipython3",
   "version": "3.9.12"
  }
 },
 "nbformat": 4,
 "nbformat_minor": 5
}
